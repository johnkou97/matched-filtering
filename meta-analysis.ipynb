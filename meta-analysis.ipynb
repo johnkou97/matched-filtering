{
 "cells": [
  {
   "cell_type": "code",
   "execution_count": null,
   "id": "bc59ebcf",
   "metadata": {},
   "outputs": [],
   "source": [
    "import numpy as np\n",
    "import scipy \n",
    "import matplotlib.pyplot as plt\n",
    "from matplotlib.colors import LogNorm\n",
    "t=np.arange(0,50,.1)\n",
    "np.seterr(divide='ignore')\n",
    "np.seterr(invalid='ignore')"
   ]
  },
  {
   "cell_type": "code",
   "execution_count": null,
   "id": "9e0af3ce",
   "metadata": {},
   "outputs": [],
   "source": [
    "#load all necessary arrays\n",
    "data=np.loadtxt('AllWithNoise.dat').T\n",
    "time=data[0]\n",
    "strain1=data[1]\n",
    "strain2=data[2]\n",
    "strain3=data[3]\n",
    "mas=np.load('results/mass_sampling.npy')\n",
    "phiran=np.load('results/phi_sampling.npy')\n",
    "sn_1=np.load('results/sn_strain1.npy')\n",
    "tsn_1=np.load('results/time_sn_strain1.npy')\n",
    "mpsn_1=np.load('results/mass_phi_sn_strain1.npy')\n",
    "sn_2=np.load('results/sn_strain2.npy')\n",
    "tsn_2=np.load('results/time_sn_strain2.npy')\n",
    "mpsn_2=np.load('results/mass_phi_sn_strain2.npy')\n",
    "sn_3=np.load('results/sn_strain3.npy')\n",
    "tsn_3=np.load('results/time_sn_strain3.npy')\n",
    "mpsn_3=np.load('results/mass_phi_sn_strain3.npy')"
   ]
  },
  {
   "cell_type": "code",
   "execution_count": null,
   "id": "574e9e94",
   "metadata": {},
   "outputs": [],
   "source": [
    "#the wave template\n",
    "def templ(phi_c,x,t,tc):\n",
    "    resul=np.nan_to_num((tc-t)**(-1/4)*np.cos(phi_c-39.11*x**(-5/8)*(tc-t)**(5/8)))\n",
    "    resul[abs(resul)>10**(4)]=0\n",
    "    return resul\n",
    "    "
   ]
  },
  {
   "cell_type": "markdown",
   "id": "d0075b02",
   "metadata": {},
   "source": [
    "Strain 1"
   ]
  },
  {
   "cell_type": "code",
   "execution_count": null,
   "id": "a02d384e",
   "metadata": {},
   "outputs": [],
   "source": [
    "plt.plot(time,strain1)\n",
    "plt.title('Strain 1')\n",
    "plt.xlabel('time')\n",
    "plt.ylabel('h(t)')\n",
    "plt.show()"
   ]
  },
  {
   "cell_type": "code",
   "execution_count": null,
   "id": "f0ee89d7",
   "metadata": {},
   "outputs": [],
   "source": [
    "plt.contour(phiran,mas,mpsn_1)\n",
    "plt.ylim(70,100)\n",
    "plt.ylabel('Mass (Solar Masses)')\n",
    "plt.xlabel('$\\phi_c$')\n",
    "plt.title('Strain 1')\n",
    "plt.savefig('results/contour_1.pdf')\n",
    "plt.show()"
   ]
  },
  {
   "cell_type": "code",
   "execution_count": null,
   "id": "29f0759d",
   "metadata": {},
   "outputs": [],
   "source": [
    "plt.contourf(phiran,mas,mpsn_1)\n",
    "plt.ylim(70,100)\n",
    "plt.ylabel('Mass (Solar Masses)')\n",
    "plt.xlabel('$\\phi_c$')\n",
    "plt.title('Strain 1')\n",
    "plt.savefig('results/contourf_1.pdf')\n",
    "plt.show()"
   ]
  },
  {
   "cell_type": "code",
   "execution_count": null,
   "id": "b20fd71a",
   "metadata": {},
   "outputs": [],
   "source": [
    "plt.plot(time,tsn_1)\n",
    "plt.title('Strain 1')\n",
    "plt.xlabel('time')\n",
    "plt.ylabel('S/N')\n",
    "plt.savefig('results/time_merger_1.pdf')\n",
    "plt.show()\n",
    "print('Time of merger is at:',time[np.where(tsn_1==np.amax(tsn_1))[0][0]])"
   ]
  },
  {
   "cell_type": "code",
   "execution_count": null,
   "id": "ea4da51d",
   "metadata": {},
   "outputs": [],
   "source": [
    "max_loc=np.where(sn_1==np.amax(sn_1))[0][0]\n",
    "count=0\n",
    "for i in mas:\n",
    "    for j in phiran:\n",
    "        for k in range(len(time)):\n",
    "            count=count+1\n",
    "            #print(count)\n",
    "            if count==max_loc:\n",
    "                break\n",
    "        if count==max_loc:\n",
    "            break\n",
    "    if count==max_loc:\n",
    "        break\n",
    "mass_true_1=i\n",
    "phi_c_true_1=j\n",
    "time_true_1=time[k]\n",
    "print ('mass:',mass_true_1)\n",
    "print('phi_c:',phi_c_true_1)\n",
    "print('time of merger:',time_true_1)"
   ]
  },
  {
   "cell_type": "code",
   "execution_count": null,
   "id": "c5f202d1",
   "metadata": {},
   "outputs": [],
   "source": [
    "plt.plot(time,strain1)\n",
    "plt.plot(time,templ(phi_c_true_1,mass_true_1,time,time_true_1),color='r')\n",
    "plt.xlabel('time')\n",
    "plt.ylabel('h(t)')\n",
    "plt.title('Strain 1')\n",
    "plt.savefig('results/wave_1.pdf')\n",
    "plt.show()"
   ]
  },
  {
   "cell_type": "markdown",
   "id": "1b5096b3",
   "metadata": {},
   "source": [
    "Strain 2"
   ]
  },
  {
   "cell_type": "code",
   "execution_count": null,
   "id": "e4198714",
   "metadata": {},
   "outputs": [],
   "source": [
    "plt.plot(time,strain2)\n",
    "plt.title('Strain 2')\n",
    "plt.xlabel('time')\n",
    "plt.ylabel('h(t)')\n",
    "plt.show()"
   ]
  },
  {
   "cell_type": "code",
   "execution_count": null,
   "id": "42d467d0",
   "metadata": {},
   "outputs": [],
   "source": [
    "plt.contour(phiran,mas,mpsn_2)\n",
    "plt.ylim(25,35)\n",
    "plt.ylabel('Mass (Solar Masses)')\n",
    "plt.xlabel('$\\phi_c$')\n",
    "plt.title('Strain 2')\n",
    "plt.savefig('results/contour_2.pdf')\n",
    "plt.show()"
   ]
  },
  {
   "cell_type": "code",
   "execution_count": null,
   "id": "c41338a6",
   "metadata": {},
   "outputs": [],
   "source": [
    "plt.contourf(phiran,mas,mpsn_2)\n",
    "plt.ylim(25,35)\n",
    "plt.ylabel('Mass (Solar Masses)')\n",
    "plt.xlabel('$\\phi_c$')\n",
    "plt.title('Strain 1')\n",
    "plt.savefig('results/contourf_2.pdf')\n",
    "plt.show()"
   ]
  },
  {
   "cell_type": "code",
   "execution_count": null,
   "id": "9776b76e",
   "metadata": {},
   "outputs": [],
   "source": [
    "plt.plot(time,tsn_2)\n",
    "plt.title('Strain 2')\n",
    "plt.xlabel('time')\n",
    "plt.ylabel('S/N')\n",
    "plt.savefig('results/time_merger_2.pdf')\n",
    "plt.show()\n",
    "print('Time of merger is at:',time[np.where(tsn_2==np.amax(tsn_2))[0][0]])"
   ]
  },
  {
   "cell_type": "code",
   "execution_count": null,
   "id": "ec899cb5",
   "metadata": {
    "scrolled": true
   },
   "outputs": [],
   "source": [
    "max_loc=np.where(sn_2==np.amax(sn_2))[0][0]\n",
    "count=0\n",
    "for i in mas:\n",
    "    for j in phiran:\n",
    "        for k in range(len(time)):\n",
    "            count=count+1\n",
    "            #print(count)\n",
    "            if count==max_loc:\n",
    "                break\n",
    "        if count==max_loc:\n",
    "            break\n",
    "    if count==max_loc:\n",
    "        break\n",
    "mass_true_2=i\n",
    "phi_c_true_2=j\n",
    "time_true_2=time[k]\n",
    "print ('mass:',mass_true_2)\n",
    "print('phi_c:',phi_c_true_2)\n",
    "print('time of merger:',time_true_2)"
   ]
  },
  {
   "cell_type": "code",
   "execution_count": null,
   "id": "bc11a9ab",
   "metadata": {},
   "outputs": [],
   "source": [
    "plt.plot(time,strain2)\n",
    "plt.plot(time,templ(phi_c_true_2,mass_true_2,time,time_true_2),color='r')\n",
    "plt.xlabel('time')\n",
    "plt.ylabel('h(t)')\n",
    "plt.title('Strain 2')\n",
    "plt.savefig('results/wave_2.pdf')\n",
    "plt.show()"
   ]
  },
  {
   "cell_type": "markdown",
   "id": "c72f8b90",
   "metadata": {},
   "source": [
    "Strain 3"
   ]
  },
  {
   "cell_type": "code",
   "execution_count": null,
   "id": "2d0ee62d",
   "metadata": {},
   "outputs": [],
   "source": [
    "plt.plot(time,strain3)\n",
    "plt.title('Strain 2')\n",
    "plt.xlabel('time')\n",
    "plt.ylabel('h(t)')\n",
    "plt.show()"
   ]
  },
  {
   "cell_type": "code",
   "execution_count": null,
   "id": "21f40de6",
   "metadata": {},
   "outputs": [],
   "source": [
    "plt.contour(phiran,mas,mpsn_3)\n",
    "plt.ylabel('Mass (Solar Masses)')\n",
    "plt.xlabel('$\\phi_c$')\n",
    "plt.title('Strain 3')\n",
    "plt.savefig('results/contour_3.pdf')\n",
    "plt.show()"
   ]
  },
  {
   "cell_type": "code",
   "execution_count": null,
   "id": "3b8bb621",
   "metadata": {},
   "outputs": [],
   "source": [
    "plt.contourf(phiran,mas,mpsn_3)\n",
    "plt.ylim(10,20)\n",
    "plt.ylabel('Mass (Solar Masses)')\n",
    "plt.xlabel('$\\phi_c$')\n",
    "plt.title('Strain 3')\n",
    "plt.savefig('results/contourf_3.pdf')\n",
    "plt.show()"
   ]
  },
  {
   "cell_type": "code",
   "execution_count": null,
   "id": "cbc266c6",
   "metadata": {},
   "outputs": [],
   "source": [
    "plt.plot(time,tsn_3)\n",
    "plt.title('Strain 3')\n",
    "plt.xlabel('time')\n",
    "plt.ylabel('S/N')\n",
    "plt.savefig('results/time_merger_3.pdf')\n",
    "plt.show()\n",
    "print('Time of merger is at:',time[np.where(tsn_3==np.amax(tsn_3))[0][0]])"
   ]
  },
  {
   "cell_type": "code",
   "execution_count": null,
   "id": "9c5fb3cd",
   "metadata": {},
   "outputs": [],
   "source": [
    "count=0\n",
    "for i in mas:\n",
    "    for j in phiran:\n",
    "        for k in range(len(time)):\n",
    "            count=count+1\n",
    "            #print(count)\n",
    "            if count==max_loc:\n",
    "                break\n",
    "        if count==max_loc:\n",
    "            break\n",
    "    if count==max_loc:\n",
    "        break\n",
    "mass_true_3=i\n",
    "phi_c_true_3=j\n",
    "time_true_3=time[k]\n",
    "print ('mass:',mass_true_3)\n",
    "print('phi_c:',phi_c_true_3)\n",
    "print('time of merger:',time_true_3)"
   ]
  }
 ],
 "metadata": {
  "kernelspec": {
   "display_name": "Python 3 (ipykernel)",
   "language": "python",
   "name": "python3"
  },
  "language_info": {
   "codemirror_mode": {
    "name": "ipython",
    "version": 3
   },
   "file_extension": ".py",
   "mimetype": "text/x-python",
   "name": "python",
   "nbconvert_exporter": "python",
   "pygments_lexer": "ipython3",
   "version": "3.9.16"
  }
 },
 "nbformat": 4,
 "nbformat_minor": 5
}
